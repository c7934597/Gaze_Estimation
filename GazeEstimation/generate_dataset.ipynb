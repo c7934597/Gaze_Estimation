{
 "cells": [
  {
   "cell_type": "code",
   "execution_count": null,
   "metadata": {},
   "outputs": [],
   "source": [
    "# 引入模組\n",
    "import os\n",
    "import numpy as np\n",
    "import matplotlib.pyplot as plt"
   ]
  },
  {
   "cell_type": "code",
   "execution_count": null,
   "metadata": {},
   "outputs": [],
   "source": [
    "if os.path.isdir(r'./focus') == False:\n",
    "    os.mkdir(\"focus\")\n",
    "if os.path.isdir(r'./inattentive') == False:\n",
    "    os.mkdir(\"inattentive\")"
   ]
  },
  {
   "cell_type": "code",
   "execution_count": null,
   "metadata": {},
   "outputs": [],
   "source": [
    "# 只有專心趨勢圖生成\n",
    "x = np.linspace(0, 15, 15)\n",
    "\n",
    "range1 = -5\n",
    "range2 = 5\n",
    "count = 80\n",
    "for i in range(1,161):\n",
    "    y1 = count\n",
    "    y2 = count\n",
    "    y3 = count\n",
    "    y4 = count\n",
    "    y5 = count\n",
    "    y6 = count\n",
    "    y7 = count\n",
    "    y8 = count\n",
    "    y9 = count\n",
    "    y10 = count\n",
    "    y11 = count\n",
    "    y12 = count\n",
    "    y13 = count\n",
    "    y14 = count\n",
    "    y15 = count\n",
    "\n",
    "    y = [[y1],[y2],[y3],[y4],[y5],[y6],[y7],[y8],[y9],[y10],[y11],[y12],[y13],[y14],[y15]]\n",
    "\n",
    "    count = count - 1\n",
    "    plt.xlim([0,15])\n",
    "    plt.ylim([-90,90])\n",
    "    plt.gcf().set_size_inches(3, 3)\n",
    "    plt.plot(x, y)\n",
    "    plt.grid(True)\n",
    "    # plt.axis('off')\n",
    "    plt.savefig(\"focus/\"+str(i)+\".jpg\", dpi=96)\n",
    "    plt.show()"
   ]
  },
  {
   "cell_type": "code",
   "execution_count": null,
   "metadata": {},
   "outputs": [],
   "source": [
    "# 只有專心趨勢圖生成\n",
    "x = np.linspace(0, 15, 15)\n",
    "\n",
    "range1 = -5\n",
    "range2 = 5\n",
    "count = 80\n",
    "for i in range(161,321):\n",
    "    y1 = count + np.random.randint(range1,range2)\n",
    "    y2 = count + np.random.randint(range1,range2)\n",
    "    y3 = count + np.random.randint(range1,range2)\n",
    "    y4 = count + np.random.randint(range1,range2)\n",
    "    y5 = count + np.random.randint(range1,range2)\n",
    "    y6 = count + np.random.randint(range1,range2)\n",
    "    y7 = count + np.random.randint(range1,range2)\n",
    "    y8 = count + np.random.randint(range1,range2)\n",
    "    y9 = count + np.random.randint(range1,range2)\n",
    "    y10 = count + np.random.randint(range1,range2)\n",
    "    y11 = count + np.random.randint(range1,range2)\n",
    "    y12 = count + np.random.randint(range1,range2)\n",
    "    y13 = count + np.random.randint(range1,range2)\n",
    "    y14 = count + np.random.randint(range1,range2)\n",
    "    y15 = count + np.random.randint(range1,range2)\n",
    "\n",
    "    y = [[y1],[y2],[y3],[y4],[y5],[y6],[y7],[y8],[y9],[y10],[y11],[y12],[y13],[y14],[y15]]\n",
    "\n",
    "    count = count - 1\n",
    "    plt.xlim([0,15])\n",
    "    plt.ylim([-90,90])\n",
    "    plt.gcf().set_size_inches(3, 3)\n",
    "    plt.plot(x, y)\n",
    "    plt.grid(True)\n",
    "    # plt.axis('off')\n",
    "    plt.savefig(\"focus/\"+str(i)+\".jpg\", dpi=96)\n",
    "    plt.show()"
   ]
  },
  {
   "cell_type": "code",
   "execution_count": null,
   "metadata": {},
   "outputs": [],
   "source": [
    "# 不專心趨勢圖生成\n",
    "x = np.linspace(0, 15, 15)\n",
    "\n",
    "range1 = -100\n",
    "range2 = 100\n",
    "for i in range(321,641):\n",
    "    y1 = np.random.randint(range1,range2)\n",
    "    y2 = np.random.randint(range1,range2)\n",
    "    y3 = np.random.randint(range1,range2)\n",
    "    y4 = np.random.randint(range1,range2)\n",
    "    y5 = np.random.randint(range1,range2)\n",
    "    y6 = np.random.randint(range1,range2)\n",
    "    y7 = np.random.randint(range1,range2)\n",
    "    y8 = np.random.randint(range1,range2)\n",
    "    y9 = np.random.randint(range1,range2)\n",
    "    y10 = np.random.randint(range1,range2)\n",
    "    y11 = np.random.randint(range1,range2)\n",
    "    y12 = np.random.randint(range1,range2)\n",
    "    y13 = np.random.randint(range1,range2)\n",
    "    y14 = np.random.randint(range1,range2)\n",
    "    y15 = np.random.randint(range1,range2)\n",
    "\n",
    "    y = [[y1],[y2],[y3],[y4],[y5],[y6],[y7],[y8],[y9],[y10],[y11],[y12],[y13],[y14],[y15]]\n",
    "    \n",
    "    plt.xlim([0,15])\n",
    "    plt.ylim([-90,90])\n",
    "    plt.gcf().set_size_inches(3, 3)\n",
    "    plt.plot(x, y)\n",
    "    plt.grid(True)\n",
    "    # plt.axis('off')\n",
    "    plt.savefig(\"inattentive/\"+str(i)+\".jpg\", dpi=96)\n",
    "    plt.show()"
   ]
  },
  {
   "cell_type": "code",
   "execution_count": null,
   "metadata": {},
   "outputs": [],
   "source": [
    "# # 依照資料生成趨勢圖\n",
    "# x = np.linspace(0, 15, 15)\n",
    "# head_pitch_y = [1,1,1,1,1,1,1,1,1,1,1,1,1,1,1]\n",
    "# head_yaw_y = [2,2,2,2,2,2,2,2,2,2,2,2,2,2,2]\n",
    "# plt.xlim([0,15])\n",
    "# plt.ylim([-90,90])\n",
    "# plt.gcf().set_size_inches(3, 3)\n",
    "# plt.plot(x, head_pitch_y)\n",
    "# plt.plot(x, head_yaw_y)\n",
    "# plt.grid(True)\n",
    "# # plt.axis('off')\n",
    "# plt.savefig(\"test.jpg\", dpi=96)"
   ]
  }
 ],
 "metadata": {
  "interpreter": {
   "hash": "58c08147fb9004b6c9b81b6b8317569c6aefa1488fd748ab1893368b85c47f9f"
  },
  "kernelspec": {
   "display_name": "Python 3.6.13 ('minggatsby3.6')",
   "language": "python",
   "name": "python3"
  },
  "language_info": {
   "codemirror_mode": {
    "name": "ipython",
    "version": 3
   },
   "file_extension": ".py",
   "mimetype": "text/x-python",
   "name": "python",
   "nbconvert_exporter": "python",
   "pygments_lexer": "ipython3",
   "version": "3.6.13"
  },
  "orig_nbformat": 4
 },
 "nbformat": 4,
 "nbformat_minor": 2
}
